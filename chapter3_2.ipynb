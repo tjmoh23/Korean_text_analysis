{
 "cells": [
  {
   "cell_type": "markdown",
   "id": "8b55be7d",
   "metadata": {},
   "source": [
    "이 노트북은 박조은님의 <모두의 한국어 텍스트 분석> 책의 예제를 바탕으로 한 노트북입니다.\n",
    "\n",
    "# 3장 라이브러리 다루기\n",
    "## 넘파이\n",
    "- Numerical Python\n",
    "- 고성능 수치 계산을 쉽게 하도록 도와주는 라이브러리\n",
    "- https://numpy.org/doc/stable/index.html"
   ]
  },
  {
   "cell_type": "code",
   "execution_count": 1,
   "id": "02eae6ea",
   "metadata": {},
   "outputs": [],
   "source": [
    "import numpy as np"
   ]
  },
  {
   "attachments": {
    "image.png": {
     "image/png": "[encoded data removed]"
    }
   },
   "cell_type": "markdown",
   "id": "0b83f79e",
   "metadata": {},
   "source": [
    "![image.png](attachment:image.png)"
   ]
  },
  {
   "cell_type": "code",
   "execution_count": 2,
   "id": "d70b353d",
   "metadata": {},
   "outputs": [
    {
     "data": {
      "text/plain": [
       "array([1., 2., 3.])"
      ]
     },
     "execution_count": 2,
     "metadata": {},
     "output_type": "execute_result"
    }
   ],
   "source": [
    "a = np.array([1, 2, 3], dtype=float)\n",
    "a"
   ]
  },
  {
   "cell_type": "code",
   "execution_count": 6,
   "id": "9f78239c",
   "metadata": {},
   "outputs": [
    {
     "data": {
      "text/plain": [
       "1"
      ]
     },
     "execution_count": 6,
     "metadata": {},
     "output_type": "execute_result"
    }
   ],
   "source": [
    "# 차원 반환\n",
    "a.ndim"
   ]
  },
  {
   "cell_type": "code",
   "execution_count": 7,
   "id": "cd5b2c30",
   "metadata": {},
   "outputs": [
    {
     "data": {
      "text/plain": [
       "dtype('float64')"
      ]
     },
     "execution_count": 7,
     "metadata": {},
     "output_type": "execute_result"
    }
   ],
   "source": [
    "# 데이터 타입 반환\n",
    "# 리스트가 아니다\n",
    "a.dtype"
   ]
  },
  {
   "cell_type": "code",
   "execution_count": 8,
   "id": "e8f56e64",
   "metadata": {},
   "outputs": [
    {
     "data": {
      "text/plain": [
       "(3,)"
      ]
     },
     "execution_count": 8,
     "metadata": {},
     "output_type": "execute_result"
    }
   ],
   "source": [
    "# object dimension의 구성을 튜플 형태로 반환\n",
    "a.shape"
   ]
  },
  {
   "cell_type": "code",
   "execution_count": 9,
   "id": "3a65b8ae",
   "metadata": {},
   "outputs": [
    {
     "data": {
      "text/plain": [
       "array([1.6, 3.2])"
      ]
     },
     "execution_count": 9,
     "metadata": {},
     "output_type": "execute_result"
    }
   ],
   "source": [
    "# 브로드 캐스팅(broadcasting): 서로 다른 모양의 배열을 처리하는 방법\n",
    "# 배열과 스칼라값의 연산 - 스칼라값은 배열과 모양이 다르더라도 연산할 수 있다.\n",
    "data = np.array([1.0, 2.0])\n",
    "data*1.6 "
   ]
  },
  {
   "cell_type": "code",
   "execution_count": 13,
   "id": "a19abb97",
   "metadata": {},
   "outputs": [
    {
     "name": "stdout",
     "output_type": "stream",
     "text": [
      "(4, 3) (3,)\n",
      "2 1\n"
     ]
    },
    {
     "data": {
      "text/plain": [
       "array([[ 1,  2,  3],\n",
       "       [11, 12, 13],\n",
       "       [21, 22, 23],\n",
       "       [31, 32, 33]])"
      ]
     },
     "execution_count": 13,
     "metadata": {},
     "output_type": "execute_result"
    }
   ],
   "source": [
    "# 차원이 다르지만 연산할 수 있다.\n",
    "# 이때 1차원 벡터의 크기는 배열의 열 개수인 3과 같아야 한다.\n",
    "c = np.array([[0, 0, 0],\n",
    "            [10, 10, 10],\n",
    "            [20, 20, 20],\n",
    "            [30, 30, 30]])\n",
    "d = np.array([1, 2, 3])\n",
    "\n",
    "print(c.shape, d.shape)\n",
    "print(c.ndim, d.ndim) # 2차원, 1차원\n",
    "c + d"
   ]
  },
  {
   "cell_type": "code",
   "execution_count": 15,
   "id": "bebeff89",
   "metadata": {},
   "outputs": [
    {
     "name": "stdout",
     "output_type": "stream",
     "text": [
      "(4, 3) (4,)\n"
     ]
    },
    {
     "ename": "ValueError",
     "evalue": "operands could not be broadcast together with shapes (4,3) (4,) ",
     "output_type": "error",
     "traceback": [
      "\u001b[1;31m---------------------------------------------------------------------------\u001b[0m",
      "\u001b[1;31mValueError\u001b[0m                                Traceback (most recent call last)",
      "Cell \u001b[1;32mIn[15], line 4\u001b[0m\n\u001b[0;32m      2\u001b[0m e \u001b[38;5;241m=\u001b[39m np\u001b[38;5;241m.\u001b[39marray([\u001b[38;5;241m1\u001b[39m, \u001b[38;5;241m2\u001b[39m, \u001b[38;5;241m3\u001b[39m, \u001b[38;5;241m4\u001b[39m])\n\u001b[0;32m      3\u001b[0m \u001b[38;5;28mprint\u001b[39m(c\u001b[38;5;241m.\u001b[39mshape, e\u001b[38;5;241m.\u001b[39mshape)\n\u001b[1;32m----> 4\u001b[0m \u001b[43mc\u001b[49m\u001b[43m \u001b[49m\u001b[38;5;241;43m+\u001b[39;49m\u001b[43m \u001b[49m\u001b[43me\u001b[49m\n",
      "\u001b[1;31mValueError\u001b[0m: operands could not be broadcast together with shapes (4,3) (4,) "
     ]
    }
   ],
   "source": [
    "# 배열의 열의 크기(3)와 1차원 벡터의 크기(4)가 다르기 때문에 오류 발생\n",
    "e = np.array([1, 2, 3, 4])\n",
    "print(c.shape, e.shape)\n",
    "c + e"
   ]
  },
  {
   "cell_type": "code",
   "execution_count": 34,
   "id": "f89d3049",
   "metadata": {},
   "outputs": [
    {
     "name": "stdout",
     "output_type": "stream",
     "text": [
      "3.0 3.0\n",
      "1 1\n",
      "180 180\n"
     ]
    }
   ],
   "source": [
    "# 집계 함수\n",
    "# max() 또는 np.max() / min() 또는 np.min() / sum() 또는 np.sum()\n",
    "print(a.max(), np.max(a))\n",
    "print(d.min(), np.min(d))\n",
    "print(c.sum(), np.sum(c))"
   ]
  },
  {
   "cell_type": "code",
   "execution_count": 32,
   "id": "3d319113",
   "metadata": {},
   "outputs": [
    {
     "name": "stdout",
     "output_type": "stream",
     "text": [
      "2차원 배열: [[10, 20, 30], [30, 40, 50], [50, 60, 70], [70, 80, 90]]\n",
      "전체 산술 평균: 50.0\n",
      "열에 따른 산술 평균: [40. 50. 60.]\n",
      "행에 따른 산술 평균: [20. 40. 60. 80.]\n"
     ]
    }
   ],
   "source": [
    "s = [[10, 20, 30],\n",
    "    [30, 40, 50],\n",
    "    [50, 60, 70],\n",
    "    [70, 80, 90]]\n",
    "\n",
    "print(\"2차원 배열:\", s)\n",
    "print(\"전체 산술 평균:\", np.mean(s))\n",
    "print(\"열에 따른 산술 평균:\", np.mean(s, axis=0))\n",
    "print(\"행에 따른 산술 평균:\", np.mean(s, axis=1))"
   ]
  },
  {
   "cell_type": "code",
   "execution_count": 49,
   "id": "181e658d",
   "metadata": {},
   "outputs": [
    {
     "data": {
      "text/plain": [
       "(array([0, 0, 0, 1, 1, 1], dtype=int64),\n",
       " array([0, 1, 2, 0, 1, 2], dtype=int64))"
      ]
     },
     "execution_count": 49,
     "metadata": {},
     "output_type": "execute_result"
    }
   ],
   "source": [
    "# 조건에 맞는 값을 찾아 해당 원소의 인덱스를 배열로 반환\n",
    "np.where(c<20)\n",
    "# (0,0), (0,1), (0,2), (1,0), (1,1), (1,2) 가 만족한다는 의미"
   ]
  },
  {
   "cell_type": "code",
   "execution_count": 64,
   "id": "cf6a9b64",
   "metadata": {},
   "outputs": [
    {
     "data": {
      "text/plain": [
       "(array([0, 1], dtype=int64),)"
      ]
     },
     "execution_count": 64,
     "metadata": {},
     "output_type": "execute_result"
    }
   ],
   "source": [
    "np.where(a<3)"
   ]
  },
  {
   "cell_type": "code",
   "execution_count": 51,
   "id": "7ab22bd0",
   "metadata": {},
   "outputs": [
    {
     "data": {
      "text/plain": [
       "array([[0., 0., 0.],\n",
       "       [0., 0., 0.]])"
      ]
     },
     "execution_count": 51,
     "metadata": {},
     "output_type": "execute_result"
    }
   ],
   "source": [
    "# 배열 생성\n",
    "# 원소가 모두 0으로 이루어진 2행 3열 배열 만들기\n",
    "np.zeros((2, 3))"
   ]
  },
  {
   "cell_type": "code",
   "execution_count": 61,
   "id": "d581b0d2",
   "metadata": {},
   "outputs": [
    {
     "data": {
      "text/plain": [
       "array([[1., 1., 1.],\n",
       "       [1., 1., 1.],\n",
       "       [1., 1., 1.],\n",
       "       [1., 1., 1.]])"
      ]
     },
     "execution_count": 61,
     "metadata": {},
     "output_type": "execute_result"
    }
   ],
   "source": [
    "# 원소가 모두 1로 이루어진 4행 3열 배열 만들기\n",
    "np.ones((4, 3))"
   ]
  },
  {
   "cell_type": "code",
   "execution_count": 63,
   "id": "84f35289",
   "metadata": {},
   "outputs": [
    {
     "data": {
      "text/plain": [
       "array([0.  , 0.25, 0.5 , 0.75, 1.  , 1.25, 1.5 , 1.75, 2.  ])"
      ]
     },
     "execution_count": 63,
     "metadata": {},
     "output_type": "execute_result"
    }
   ],
   "source": [
    "# np.linspace(start, stop, step): 시작과 끝 사이에 균일하게 숫자를 생성\n",
    "# 0과 2 사이에 균일하게 9개의 숫자를 생성\n",
    "np.linspace(0, 2, 9) "
   ]
  },
  {
   "cell_type": "code",
   "execution_count": null,
   "id": "da3aa017",
   "metadata": {},
   "outputs": [],
   "source": [
    "# 랜덤 모듈 사용하여 난수 생성하기\n",
    "# .random.random(): 균등 분포\n",
    "# .random.rand(): 균등 비율\n",
    "# .random.randn(): 정규 분포\n",
    "# .random.randint()\n",
    "# .random.normal()"
   ]
  },
  {
   "cell_type": "markdown",
   "id": "a9f556f9",
   "metadata": {},
   "source": [
    "각각의 NumPy 함수들은 다음과 같은 역할을 합니다:\n",
    "\n",
    "np.random.random(): 0부터 1 사이의 균일 분포(uniform distribution)에서 난수를 생성합니다. 0 이상 1 미만의 실수 값을 반환합니다.\n",
    "\n",
    "np.random.rand(): 0부터 1 사이의 균일 분포에서 지정된 형태(shape)에 맞는 난수 배열을 생성합니다. 인수로는 배열의 차원을 나타내는 정수들을 받습니다. 예를 들어, np.random.rand(2, 3)은 2행 3열의 난수 배열을 생성합니다.\n",
    "\n",
    "np.random.randn(): 평균이 0이고 표준 편차가 1인 가우시안 정규 분포(Gaussian normal distribution)에서 난수를 생성합니다. 정규 분포를 따르는 난수 배열을 생성할 때 사용됩니다.\n",
    "\n",
    "np.random.randint(): 지정된 범위 내에서 정수 형태의 난수를 생성합니다. 인수로는 최솟값, 최댓값, 그리고 배열의 형태(shape)를 받습니다. 예를 들어, np.random.randint(1, 10, (2, 3))은 1부터 10 사이의 정수로 채워진 2행 3열의 난수 배열을 생성합니다.\n",
    "\n",
    "np.random.normal(): 정규 분포를 따르는 난수를 생성합니다. 인수로는 평균, 표준 편차, 그리고 배열의 형태(shape)를 받습니다. 예를 들어, np.random.normal(0, 1, (2, 3))은 평균이 0이고 표준 편차가 1인 정규 분포를 따르는 난수로 채워진 2행 3열의 배열을 생성합니다."
   ]
  },
  {
   "cell_type": "code",
   "execution_count": 89,
   "id": "fe313b56",
   "metadata": {},
   "outputs": [
    {
     "data": {
      "text/plain": [
       "array([[0.34320194, 0.76479175],\n",
       "       [0.77714047, 0.16329517]])"
      ]
     },
     "execution_count": 89,
     "metadata": {},
     "output_type": "execute_result"
    }
   ],
   "source": [
    "d = np.random.random((2,2))\n",
    "d"
   ]
  },
  {
   "cell_type": "code",
   "execution_count": 93,
   "id": "d2fed189",
   "metadata": {},
   "outputs": [
    {
     "data": {
      "text/plain": [
       "array([[0.46543039, 0.52344955, 0.03246248],\n",
       "       [0.37855329, 0.00926569, 0.78853286]])"
      ]
     },
     "execution_count": 93,
     "metadata": {},
     "output_type": "execute_result"
    }
   ],
   "source": [
    "np.random.rand(2,3)"
   ]
  },
  {
   "cell_type": "code",
   "execution_count": 120,
   "id": "ef49e82f",
   "metadata": {},
   "outputs": [
    {
     "data": {
      "text/plain": [
       "array([[18, 41, 10, 35, 41, 30],\n",
       "       [42, 35, 45, 41, 21, 19],\n",
       "       [ 9, 27, 31, 16,  7,  3],\n",
       "       [42, 45, 40,  7,  4,  7],\n",
       "       [20, 40,  8, 25, 29, 21]])"
      ]
     },
     "execution_count": 120,
     "metadata": {},
     "output_type": "execute_result"
    }
   ],
   "source": [
    "# 로또 번호 뽑기 ㅋ\n",
    "# 1 이상 46 미만의 정수\n",
    "np.random.randint(1, 46, (5,6))"
   ]
  },
  {
   "cell_type": "code",
   "execution_count": 112,
   "id": "8e6e1c6c",
   "metadata": {},
   "outputs": [
    {
     "data": {
      "text/plain": [
       "array([[-0.54318802,  0.05279732,  0.08134857],\n",
       "       [ 3.6055733 ,  4.76819895,  1.19742947]])"
      ]
     },
     "execution_count": 112,
     "metadata": {},
     "output_type": "execute_result"
    }
   ],
   "source": [
    "# 평균이 0이고 표준편차가 2인 정규 분포를 2행 3열로 만들기\n",
    "np.random.normal(0, 2, (2,3))"
   ]
  },
  {
   "cell_type": "code",
   "execution_count": 121,
   "id": "a4dc5f58",
   "metadata": {},
   "outputs": [
    {
     "data": {
      "image/png": "[encoded data removed]",
      "text/plain": [
       "<Figure size 640x480 with 1 Axes>"
      ]
     },
     "metadata": {},
     "output_type": "display_data"
    }
   ],
   "source": [
    "# 맷플로립으로 넘파이 배열 시각화하기\n",
    "import matplotlib.pyplot as plt\n",
    "\n",
    "# 평균이 0이고 표준편차가 1인 정규 분포 형태의 히스토그램 시각화\n",
    "plt.hist(np.random.normal(loc=0.0, scale=1.0, size=100000), bins=100)\n",
    "plt.show()"
   ]
  },
  {
   "cell_type": "code",
   "execution_count": null,
   "id": "47f78440",
   "metadata": {},
   "outputs": [],
   "source": []
  }
 ],
 "metadata": {
  "kernelspec": {
   "display_name": "Python 3 (ipykernel)",
   "language": "python",
   "name": "python3"
  },
  "language_info": {
   "codemirror_mode": {
    "name": "ipython",
    "version": 3
   },
   "file_extension": ".py",
   "mimetype": "text/x-python",
   "name": "python",
   "nbconvert_exporter": "python",
   "pygments_lexer": "ipython3",
   "version": "3.9.16"
  },
  "toc": {
   "base_numbering": 1,
   "nav_menu": {},
   "number_sections": true,
   "sideBar": true,
   "skip_h1_title": false,
   "title_cell": "Table of Contents",
   "title_sidebar": "Contents",
   "toc_cell": false,
   "toc_position": {},
   "toc_section_display": true,
   "toc_window_display": false
  }
 },
 "nbformat": 4,
 "nbformat_minor": 5
}
