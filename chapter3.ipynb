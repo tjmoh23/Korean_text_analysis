{
 "cells": [
  {
   "cell_type": "markdown",
   "id": "2e516cc1",
   "metadata": {},
   "source": [
    "이 노트북은 박조은님의 <모두의 한국어 텍스트 분석> 책의 예제를 바탕으로 한 노트북입니다.\n",
    "\n",
    "# 3장. 라이브러리 다루기\n",
    "## 판다스\n",
    "- https://pandas.pydata.org/docs/index.html\n",
    "- https://pandas.pydata.org/Pandas_Cheat_Sheet.pdf"
   ]
  },
  {
   "cell_type": "code",
   "execution_count": 1,
   "id": "5680c49c",
   "metadata": {},
   "outputs": [],
   "source": [
    "import pandas as pd\n",
    "import numpy as np"
   ]
  },
  {
   "cell_type": "code",
   "execution_count": 2,
   "id": "e8ebfd22",
   "metadata": {},
   "outputs": [
    {
     "data": {
      "text/html": [
       "<div>\n",
       "<style scoped>\n",
       "    .dataframe tbody tr th:only-of-type {\n",
       "        vertical-align: middle;\n",
       "    }\n",
       "\n",
       "    .dataframe tbody tr th {\n",
       "        vertical-align: top;\n",
       "    }\n",
       "\n",
       "    .dataframe thead th {\n",
       "        text-align: right;\n",
       "    }\n",
       "</style>\n",
       "<table border=\"1\" class=\"dataframe\">\n",
       "  <thead>\n",
       "    <tr style=\"text-align: right;\">\n",
       "      <th></th>\n",
       "      <th>a</th>\n",
       "      <th>b</th>\n",
       "      <th>c</th>\n",
       "    </tr>\n",
       "  </thead>\n",
       "  <tbody>\n",
       "    <tr>\n",
       "      <th>1</th>\n",
       "      <td>4</td>\n",
       "      <td>7</td>\n",
       "      <td>10</td>\n",
       "    </tr>\n",
       "    <tr>\n",
       "      <th>2</th>\n",
       "      <td>5</td>\n",
       "      <td>8</td>\n",
       "      <td>11</td>\n",
       "    </tr>\n",
       "    <tr>\n",
       "      <th>3</th>\n",
       "      <td>6</td>\n",
       "      <td>9</td>\n",
       "      <td>12</td>\n",
       "    </tr>\n",
       "  </tbody>\n",
       "</table>\n",
       "</div>"
      ],
      "text/plain": [
       "   a  b   c\n",
       "1  4  7  10\n",
       "2  5  8  11\n",
       "3  6  9  12"
      ]
     },
     "execution_count": 2,
     "metadata": {},
     "output_type": "execute_result"
    }
   ],
   "source": [
    "# 판다스 데이터 프레임 생성하기\n",
    "df = pd.DataFrame(\n",
    "    {\"a\":[4, 5, 6],\n",
    "    \"b\":[7, 8, 9],\n",
    "    \"c\":[10, 11, 12]},\n",
    "    index=[1, 2, 3])\n",
    "\n",
    "df"
   ]
  },
  {
   "cell_type": "code",
   "execution_count": 3,
   "id": "0eda36be",
   "metadata": {},
   "outputs": [
    {
     "data": {
      "text/plain": [
       "1    4\n",
       "2    5\n",
       "3    6\n",
       "Name: a, dtype: int64"
      ]
     },
     "execution_count": 3,
     "metadata": {},
     "output_type": "execute_result"
    }
   ],
   "source": [
    "df[\"a\"]"
   ]
  },
  {
   "cell_type": "code",
   "execution_count": 4,
   "id": "fcc12f90",
   "metadata": {},
   "outputs": [
    {
     "data": {
      "text/html": [
       "<div>\n",
       "<style scoped>\n",
       "    .dataframe tbody tr th:only-of-type {\n",
       "        vertical-align: middle;\n",
       "    }\n",
       "\n",
       "    .dataframe tbody tr th {\n",
       "        vertical-align: top;\n",
       "    }\n",
       "\n",
       "    .dataframe thead th {\n",
       "        text-align: right;\n",
       "    }\n",
       "</style>\n",
       "<table border=\"1\" class=\"dataframe\">\n",
       "  <thead>\n",
       "    <tr style=\"text-align: right;\">\n",
       "      <th></th>\n",
       "      <th>a</th>\n",
       "      <th>b</th>\n",
       "    </tr>\n",
       "  </thead>\n",
       "  <tbody>\n",
       "    <tr>\n",
       "      <th>1</th>\n",
       "      <td>4</td>\n",
       "      <td>7</td>\n",
       "    </tr>\n",
       "    <tr>\n",
       "      <th>2</th>\n",
       "      <td>5</td>\n",
       "      <td>8</td>\n",
       "    </tr>\n",
       "    <tr>\n",
       "      <th>3</th>\n",
       "      <td>6</td>\n",
       "      <td>9</td>\n",
       "    </tr>\n",
       "  </tbody>\n",
       "</table>\n",
       "</div>"
      ],
      "text/plain": [
       "   a  b\n",
       "1  4  7\n",
       "2  5  8\n",
       "3  6  9"
      ]
     },
     "execution_count": 4,
     "metadata": {},
     "output_type": "execute_result"
    }
   ],
   "source": [
    "df[[\"a\", \"b\"]]"
   ]
  },
  {
   "cell_type": "markdown",
   "id": "4adb9b9f",
   "metadata": {},
   "source": [
    "### **iloc[ ]와 loc[ ]**\n",
    "- 참고 링크: https://separang.tistory.com/91\n",
    "- loc[  ] \n",
    "    - 사용 예시: DataFrame.iloc[index_index, column_index]\n",
    "    - 예를 들어 df[[\"a\", \"b\"]]는 df의 a열과 b열을 선택하고, df.loc[1]은 1행을 선택한다\n",
    "    - index를 활용하지 않고 직접 index 및 컬럼명을 통해 지정\n",
    "    - 컬럼명을 직접 적거나, 특정 조건식을 써줌으로써 사람이 읽기 좋은 방법으로 데이터에 접근\n",
    "    - 주어진 키를 기반으로 행을 선택\n",
    "- iloc[  ]\n",
    "    - 사용 예시: DataFrame.loc[index_name, column_name]\n",
    "    - integer location \n",
    "    - index를 활용한 location 지정 방법\n",
    "    - 데이터 프레임의 행이나 컬럼의 순서를 나타내는 정수로 특정 값을 추출\n",
    "    - 컴퓨터가 읽기 좋은 방법(숫자)로 데이터가 있는 위치(순서)에 접근\n",
    "    - 정수 기반 인덱스 기반으로 행을 선택"
   ]
  },
  {
   "cell_type": "code",
   "execution_count": 5,
   "id": "840a2f95",
   "metadata": {},
   "outputs": [
    {
     "data": {
      "text/plain": [
       "a     5\n",
       "b     8\n",
       "c    11\n",
       "Name: 2, dtype: int64"
      ]
     },
     "execution_count": 5,
     "metadata": {},
     "output_type": "execute_result"
    }
   ],
   "source": [
    "# df의 3행 출력(1부터 시작)\n",
    "df.loc[2] "
   ]
  },
  {
   "cell_type": "code",
   "execution_count": 6,
   "id": "1ff45b50",
   "metadata": {},
   "outputs": [
    {
     "data": {
      "text/plain": [
       "a     6\n",
       "b     9\n",
       "c    12\n",
       "Name: 3, dtype: int64"
      ]
     },
     "execution_count": 6,
     "metadata": {},
     "output_type": "execute_result"
    }
   ],
   "source": [
    "# df의 인덱스가 2인 행 출력(0부터 시작)\n",
    "df.iloc[2]"
   ]
  },
  {
   "cell_type": "code",
   "execution_count": 7,
   "id": "6761238b",
   "metadata": {},
   "outputs": [
    {
     "data": {
      "text/plain": [
       "1    7\n",
       "2    8\n",
       "3    9\n",
       "Name: b, dtype: int64"
      ]
     },
     "execution_count": 7,
     "metadata": {},
     "output_type": "execute_result"
    }
   ],
   "source": [
    "df.loc[:,\"b\"] "
   ]
  },
  {
   "cell_type": "code",
   "execution_count": 8,
   "id": "5d5e802c",
   "metadata": {},
   "outputs": [
    {
     "data": {
      "text/plain": [
       "1    7\n",
       "2    8\n",
       "3    9\n",
       "Name: b, dtype: int64"
      ]
     },
     "execution_count": 8,
     "metadata": {},
     "output_type": "execute_result"
    }
   ],
   "source": [
    "# 위의 loc와 차이점 확인해보기\n",
    "df.iloc[:,1] "
   ]
  },
  {
   "cell_type": "code",
   "execution_count": 9,
   "id": "54fcf617",
   "metadata": {},
   "outputs": [
    {
     "data": {
      "text/html": [
       "<div>\n",
       "<style scoped>\n",
       "    .dataframe tbody tr th:only-of-type {\n",
       "        vertical-align: middle;\n",
       "    }\n",
       "\n",
       "    .dataframe tbody tr th {\n",
       "        vertical-align: top;\n",
       "    }\n",
       "\n",
       "    .dataframe thead th {\n",
       "        text-align: right;\n",
       "    }\n",
       "</style>\n",
       "<table border=\"1\" class=\"dataframe\">\n",
       "  <thead>\n",
       "    <tr style=\"text-align: right;\">\n",
       "      <th></th>\n",
       "      <th></th>\n",
       "      <th>a</th>\n",
       "      <th>b</th>\n",
       "      <th>c</th>\n",
       "    </tr>\n",
       "    <tr>\n",
       "      <th>n</th>\n",
       "      <th>v</th>\n",
       "      <th></th>\n",
       "      <th></th>\n",
       "      <th></th>\n",
       "    </tr>\n",
       "  </thead>\n",
       "  <tbody>\n",
       "    <tr>\n",
       "      <th rowspan=\"2\" valign=\"top\">d</th>\n",
       "      <th>1</th>\n",
       "      <td>4.0</td>\n",
       "      <td>7.0</td>\n",
       "      <td>10.0</td>\n",
       "    </tr>\n",
       "    <tr>\n",
       "      <th>2</th>\n",
       "      <td>5.0</td>\n",
       "      <td>8.0</td>\n",
       "      <td>11.0</td>\n",
       "    </tr>\n",
       "    <tr>\n",
       "      <th rowspan=\"3\" valign=\"top\">e</th>\n",
       "      <th>2</th>\n",
       "      <td>6.0</td>\n",
       "      <td>NaN</td>\n",
       "      <td>12.0</td>\n",
       "    </tr>\n",
       "    <tr>\n",
       "      <th>3</th>\n",
       "      <td>6.0</td>\n",
       "      <td>9.0</td>\n",
       "      <td>NaN</td>\n",
       "    </tr>\n",
       "    <tr>\n",
       "      <th>4</th>\n",
       "      <td>NaN</td>\n",
       "      <td>9.0</td>\n",
       "      <td>12.0</td>\n",
       "    </tr>\n",
       "  </tbody>\n",
       "</table>\n",
       "</div>"
      ],
      "text/plain": [
       "       a    b     c\n",
       "n v                \n",
       "d 1  4.0  7.0  10.0\n",
       "  2  5.0  8.0  11.0\n",
       "e 2  6.0  NaN  12.0\n",
       "  3  6.0  9.0   NaN\n",
       "  4  NaN  9.0  12.0"
      ]
     },
     "execution_count": 9,
     "metadata": {},
     "output_type": "execute_result"
    }
   ],
   "source": [
    "# 두 개의 인덱스 갖도록 데이터 프레임 만들기\n",
    "\n",
    "df = pd.DataFrame(\n",
    "    {\"a\":[4, 5, 6, 6, np.nan],\n",
    "    \"b\":[7, 8, np.nan, 9, 9],\n",
    "    \"c\":[10, 11, 12, np.nan, 12]},\n",
    "    index = pd.MultiIndex.from_tuples(\n",
    "    [(\"d\", 1), (\"d\", 2), (\"e\", 2), (\"e\", 3), (\"e\", 4)],\n",
    "    names = [\"n\", \"v\"]))\n",
    "\n",
    "df"
   ]
  },
  {
   "cell_type": "code",
   "execution_count": 10,
   "id": "53fdbd16",
   "metadata": {},
   "outputs": [
    {
     "data": {
      "text/plain": [
       "n  v\n",
       "d  1     True\n",
       "   2     True\n",
       "e  2    False\n",
       "   3    False\n",
       "   4    False\n",
       "Name: a, dtype: bool"
      ]
     },
     "execution_count": 10,
     "metadata": {},
     "output_type": "execute_result"
    }
   ],
   "source": [
    "df[\"a\"] < 6"
   ]
  },
  {
   "cell_type": "code",
   "execution_count": 11,
   "id": "6410f58d",
   "metadata": {},
   "outputs": [
    {
     "data": {
      "text/html": [
       "<div>\n",
       "<style scoped>\n",
       "    .dataframe tbody tr th:only-of-type {\n",
       "        vertical-align: middle;\n",
       "    }\n",
       "\n",
       "    .dataframe tbody tr th {\n",
       "        vertical-align: top;\n",
       "    }\n",
       "\n",
       "    .dataframe thead th {\n",
       "        text-align: right;\n",
       "    }\n",
       "</style>\n",
       "<table border=\"1\" class=\"dataframe\">\n",
       "  <thead>\n",
       "    <tr style=\"text-align: right;\">\n",
       "      <th></th>\n",
       "      <th></th>\n",
       "      <th>a</th>\n",
       "      <th>b</th>\n",
       "      <th>c</th>\n",
       "    </tr>\n",
       "    <tr>\n",
       "      <th>n</th>\n",
       "      <th>v</th>\n",
       "      <th></th>\n",
       "      <th></th>\n",
       "      <th></th>\n",
       "    </tr>\n",
       "  </thead>\n",
       "  <tbody>\n",
       "    <tr>\n",
       "      <th rowspan=\"2\" valign=\"top\">d</th>\n",
       "      <th>1</th>\n",
       "      <td>4.0</td>\n",
       "      <td>7.0</td>\n",
       "      <td>10.0</td>\n",
       "    </tr>\n",
       "    <tr>\n",
       "      <th>2</th>\n",
       "      <td>5.0</td>\n",
       "      <td>8.0</td>\n",
       "      <td>11.0</td>\n",
       "    </tr>\n",
       "  </tbody>\n",
       "</table>\n",
       "</div>"
      ],
      "text/plain": [
       "       a    b     c\n",
       "n v                \n",
       "d 1  4.0  7.0  10.0\n",
       "  2  5.0  8.0  11.0"
      ]
     },
     "execution_count": 11,
     "metadata": {},
     "output_type": "execute_result"
    }
   ],
   "source": [
    "df[df.a < 6]"
   ]
  },
  {
   "cell_type": "code",
   "execution_count": 12,
   "id": "8e948cd2",
   "metadata": {},
   "outputs": [
    {
     "data": {
      "text/html": [
       "<div>\n",
       "<style scoped>\n",
       "    .dataframe tbody tr th:only-of-type {\n",
       "        vertical-align: middle;\n",
       "    }\n",
       "\n",
       "    .dataframe tbody tr th {\n",
       "        vertical-align: top;\n",
       "    }\n",
       "\n",
       "    .dataframe thead th {\n",
       "        text-align: right;\n",
       "    }\n",
       "</style>\n",
       "<table border=\"1\" class=\"dataframe\">\n",
       "  <thead>\n",
       "    <tr style=\"text-align: right;\">\n",
       "      <th></th>\n",
       "      <th></th>\n",
       "      <th>a</th>\n",
       "      <th>b</th>\n",
       "      <th>c</th>\n",
       "    </tr>\n",
       "    <tr>\n",
       "      <th>n</th>\n",
       "      <th>v</th>\n",
       "      <th></th>\n",
       "      <th></th>\n",
       "      <th></th>\n",
       "    </tr>\n",
       "  </thead>\n",
       "  <tbody>\n",
       "    <tr>\n",
       "      <th rowspan=\"2\" valign=\"top\">d</th>\n",
       "      <th>1</th>\n",
       "      <td>4.0</td>\n",
       "      <td>7.0</td>\n",
       "      <td>10.0</td>\n",
       "    </tr>\n",
       "    <tr>\n",
       "      <th>2</th>\n",
       "      <td>5.0</td>\n",
       "      <td>8.0</td>\n",
       "      <td>11.0</td>\n",
       "    </tr>\n",
       "  </tbody>\n",
       "</table>\n",
       "</div>"
      ],
      "text/plain": [
       "       a    b     c\n",
       "n v                \n",
       "d 1  4.0  7.0  10.0\n",
       "  2  5.0  8.0  11.0"
      ]
     },
     "execution_count": 12,
     "metadata": {},
     "output_type": "execute_result"
    }
   ],
   "source": [
    "df[df[\"a\"] < 6]"
   ]
  },
  {
   "cell_type": "markdown",
   "id": "77b6bb7d",
   "metadata": {},
   "source": [
    "### 특정 값이 들어 있는지 확인하기 "
   ]
  },
  {
   "cell_type": "code",
   "execution_count": 13,
   "id": "a1892222",
   "metadata": {},
   "outputs": [
    {
     "data": {
      "text/plain": [
       "n  v\n",
       "d  1    False\n",
       "   2     True\n",
       "e  2    False\n",
       "   3    False\n",
       "   4    False\n",
       "Name: a, dtype: bool"
      ]
     },
     "execution_count": 13,
     "metadata": {},
     "output_type": "execute_result"
    }
   ],
   "source": [
    "# df.column.isin([value])\n",
    "# df[df[\"분류\"].isin([\"경제\", \"사회\"])] -> \"분류\"열에서 값이 \"경제\"이거나 \"사회\"인 행\n",
    "df[\"a\"].isin([5])"
   ]
  },
  {
   "cell_type": "code",
   "execution_count": 14,
   "id": "6bba4bf4",
   "metadata": {},
   "outputs": [
    {
     "data": {
      "text/html": [
       "<div>\n",
       "<style scoped>\n",
       "    .dataframe tbody tr th:only-of-type {\n",
       "        vertical-align: middle;\n",
       "    }\n",
       "\n",
       "    .dataframe tbody tr th {\n",
       "        vertical-align: top;\n",
       "    }\n",
       "\n",
       "    .dataframe thead th {\n",
       "        text-align: right;\n",
       "    }\n",
       "</style>\n",
       "<table border=\"1\" class=\"dataframe\">\n",
       "  <thead>\n",
       "    <tr style=\"text-align: right;\">\n",
       "      <th></th>\n",
       "      <th></th>\n",
       "      <th>a</th>\n",
       "      <th>b</th>\n",
       "      <th>c</th>\n",
       "    </tr>\n",
       "    <tr>\n",
       "      <th>n</th>\n",
       "      <th>v</th>\n",
       "      <th></th>\n",
       "      <th></th>\n",
       "      <th></th>\n",
       "    </tr>\n",
       "  </thead>\n",
       "  <tbody>\n",
       "    <tr>\n",
       "      <th>d</th>\n",
       "      <th>2</th>\n",
       "      <td>5.0</td>\n",
       "      <td>8.0</td>\n",
       "      <td>11.0</td>\n",
       "    </tr>\n",
       "  </tbody>\n",
       "</table>\n",
       "</div>"
      ],
      "text/plain": [
       "       a    b     c\n",
       "n v                \n",
       "d 2  5.0  8.0  11.0"
      ]
     },
     "execution_count": 14,
     "metadata": {},
     "output_type": "execute_result"
    }
   ],
   "source": [
    "df[df[\"a\"].isin([5])]"
   ]
  },
  {
   "cell_type": "markdown",
   "id": "10541ec5",
   "metadata": {},
   "source": [
    "### 중복 데이터 제거하기\n",
    "- 기본값은 행의 값이 모두 같아야 제거\n",
    "- 특정 행 지정 시, 특정 행에 해당하는 값만 제거\n",
    "- keep = 'first', 'last', False 등 매개 변수 사용 시, 어느 것을 삭제할 지 선택 가능\n",
    "    - keep = \"last\": 뒤의 값을 남기고 앞에 중복되는 값 삭제 "
   ]
  },
  {
   "cell_type": "code",
   "execution_count": 15,
   "id": "afe0cf94",
   "metadata": {},
   "outputs": [
    {
     "data": {
      "text/html": [
       "<div>\n",
       "<style scoped>\n",
       "    .dataframe tbody tr th:only-of-type {\n",
       "        vertical-align: middle;\n",
       "    }\n",
       "\n",
       "    .dataframe tbody tr th {\n",
       "        vertical-align: top;\n",
       "    }\n",
       "\n",
       "    .dataframe thead th {\n",
       "        text-align: right;\n",
       "    }\n",
       "</style>\n",
       "<table border=\"1\" class=\"dataframe\">\n",
       "  <thead>\n",
       "    <tr style=\"text-align: right;\">\n",
       "      <th></th>\n",
       "      <th></th>\n",
       "      <th>a</th>\n",
       "      <th>b</th>\n",
       "      <th>c</th>\n",
       "    </tr>\n",
       "    <tr>\n",
       "      <th>n</th>\n",
       "      <th>v</th>\n",
       "      <th></th>\n",
       "      <th></th>\n",
       "      <th></th>\n",
       "    </tr>\n",
       "  </thead>\n",
       "  <tbody>\n",
       "    <tr>\n",
       "      <th rowspan=\"2\" valign=\"top\">d</th>\n",
       "      <th>1</th>\n",
       "      <td>4.0</td>\n",
       "      <td>7.0</td>\n",
       "      <td>10.0</td>\n",
       "    </tr>\n",
       "    <tr>\n",
       "      <th>2</th>\n",
       "      <td>5.0</td>\n",
       "      <td>8.0</td>\n",
       "      <td>11.0</td>\n",
       "    </tr>\n",
       "    <tr>\n",
       "      <th rowspan=\"2\" valign=\"top\">e</th>\n",
       "      <th>3</th>\n",
       "      <td>6.0</td>\n",
       "      <td>9.0</td>\n",
       "      <td>NaN</td>\n",
       "    </tr>\n",
       "    <tr>\n",
       "      <th>4</th>\n",
       "      <td>NaN</td>\n",
       "      <td>9.0</td>\n",
       "      <td>12.0</td>\n",
       "    </tr>\n",
       "  </tbody>\n",
       "</table>\n",
       "</div>"
      ],
      "text/plain": [
       "       a    b     c\n",
       "n v                \n",
       "d 1  4.0  7.0  10.0\n",
       "  2  5.0  8.0  11.0\n",
       "e 3  6.0  9.0   NaN\n",
       "  4  NaN  9.0  12.0"
      ]
     },
     "execution_count": 15,
     "metadata": {},
     "output_type": "execute_result"
    }
   ],
   "source": [
    "# df.drop_duplicates()\n",
    "# 뒤의 값 남기고 앞에 중복되는 값 삭제하기\n",
    "df.drop_duplicates(subset=\"a\", keep=\"last\")"
   ]
  },
  {
   "cell_type": "markdown",
   "id": "c0fdc951",
   "metadata": {},
   "source": [
    "### 데이터 미리 보기"
   ]
  },
  {
   "cell_type": "code",
   "execution_count": 16,
   "id": "789676ba",
   "metadata": {},
   "outputs": [
    {
     "data": {
      "text/html": [
       "<div>\n",
       "<style scoped>\n",
       "    .dataframe tbody tr th:only-of-type {\n",
       "        vertical-align: middle;\n",
       "    }\n",
       "\n",
       "    .dataframe tbody tr th {\n",
       "        vertical-align: top;\n",
       "    }\n",
       "\n",
       "    .dataframe thead th {\n",
       "        text-align: right;\n",
       "    }\n",
       "</style>\n",
       "<table border=\"1\" class=\"dataframe\">\n",
       "  <thead>\n",
       "    <tr style=\"text-align: right;\">\n",
       "      <th></th>\n",
       "      <th></th>\n",
       "      <th>a</th>\n",
       "      <th>b</th>\n",
       "      <th>c</th>\n",
       "    </tr>\n",
       "    <tr>\n",
       "      <th>n</th>\n",
       "      <th>v</th>\n",
       "      <th></th>\n",
       "      <th></th>\n",
       "      <th></th>\n",
       "    </tr>\n",
       "  </thead>\n",
       "  <tbody>\n",
       "    <tr>\n",
       "      <th rowspan=\"2\" valign=\"top\">d</th>\n",
       "      <th>1</th>\n",
       "      <td>4.0</td>\n",
       "      <td>7.0</td>\n",
       "      <td>10.0</td>\n",
       "    </tr>\n",
       "    <tr>\n",
       "      <th>2</th>\n",
       "      <td>5.0</td>\n",
       "      <td>8.0</td>\n",
       "      <td>11.0</td>\n",
       "    </tr>\n",
       "  </tbody>\n",
       "</table>\n",
       "</div>"
      ],
      "text/plain": [
       "       a    b     c\n",
       "n v                \n",
       "d 1  4.0  7.0  10.0\n",
       "  2  5.0  8.0  11.0"
      ]
     },
     "execution_count": 16,
     "metadata": {},
     "output_type": "execute_result"
    }
   ],
   "source": [
    "df.head(2)"
   ]
  },
  {
   "cell_type": "code",
   "execution_count": 17,
   "id": "67c7d4c9",
   "metadata": {},
   "outputs": [
    {
     "data": {
      "text/html": [
       "<div>\n",
       "<style scoped>\n",
       "    .dataframe tbody tr th:only-of-type {\n",
       "        vertical-align: middle;\n",
       "    }\n",
       "\n",
       "    .dataframe tbody tr th {\n",
       "        vertical-align: top;\n",
       "    }\n",
       "\n",
       "    .dataframe thead th {\n",
       "        text-align: right;\n",
       "    }\n",
       "</style>\n",
       "<table border=\"1\" class=\"dataframe\">\n",
       "  <thead>\n",
       "    <tr style=\"text-align: right;\">\n",
       "      <th></th>\n",
       "      <th></th>\n",
       "      <th>a</th>\n",
       "      <th>b</th>\n",
       "      <th>c</th>\n",
       "    </tr>\n",
       "    <tr>\n",
       "      <th>n</th>\n",
       "      <th>v</th>\n",
       "      <th></th>\n",
       "      <th></th>\n",
       "      <th></th>\n",
       "    </tr>\n",
       "  </thead>\n",
       "  <tbody>\n",
       "    <tr>\n",
       "      <th rowspan=\"2\" valign=\"top\">e</th>\n",
       "      <th>3</th>\n",
       "      <td>6.0</td>\n",
       "      <td>9.0</td>\n",
       "      <td>NaN</td>\n",
       "    </tr>\n",
       "    <tr>\n",
       "      <th>4</th>\n",
       "      <td>NaN</td>\n",
       "      <td>9.0</td>\n",
       "      <td>12.0</td>\n",
       "    </tr>\n",
       "  </tbody>\n",
       "</table>\n",
       "</div>"
      ],
      "text/plain": [
       "       a    b     c\n",
       "n v                \n",
       "e 3  6.0  9.0   NaN\n",
       "  4  NaN  9.0  12.0"
      ]
     },
     "execution_count": 17,
     "metadata": {},
     "output_type": "execute_result"
    }
   ],
   "source": [
    "df.tail(2)"
   ]
  },
  {
   "cell_type": "code",
   "execution_count": 18,
   "id": "da7351d6",
   "metadata": {},
   "outputs": [
    {
     "data": {
      "text/html": [
       "<div>\n",
       "<style scoped>\n",
       "    .dataframe tbody tr th:only-of-type {\n",
       "        vertical-align: middle;\n",
       "    }\n",
       "\n",
       "    .dataframe tbody tr th {\n",
       "        vertical-align: top;\n",
       "    }\n",
       "\n",
       "    .dataframe thead th {\n",
       "        text-align: right;\n",
       "    }\n",
       "</style>\n",
       "<table border=\"1\" class=\"dataframe\">\n",
       "  <thead>\n",
       "    <tr style=\"text-align: right;\">\n",
       "      <th></th>\n",
       "      <th></th>\n",
       "      <th>a</th>\n",
       "      <th>b</th>\n",
       "      <th>c</th>\n",
       "    </tr>\n",
       "    <tr>\n",
       "      <th>n</th>\n",
       "      <th>v</th>\n",
       "      <th></th>\n",
       "      <th></th>\n",
       "      <th></th>\n",
       "    </tr>\n",
       "  </thead>\n",
       "  <tbody>\n",
       "    <tr>\n",
       "      <th rowspan=\"2\" valign=\"top\">e</th>\n",
       "      <th>3</th>\n",
       "      <td>6.0</td>\n",
       "      <td>9.0</td>\n",
       "      <td>NaN</td>\n",
       "    </tr>\n",
       "    <tr>\n",
       "      <th>4</th>\n",
       "      <td>NaN</td>\n",
       "      <td>9.0</td>\n",
       "      <td>12.0</td>\n",
       "    </tr>\n",
       "  </tbody>\n",
       "</table>\n",
       "</div>"
      ],
      "text/plain": [
       "       a    b     c\n",
       "n v                \n",
       "e 3  6.0  9.0   NaN\n",
       "  4  NaN  9.0  12.0"
      ]
     },
     "execution_count": 18,
     "metadata": {},
     "output_type": "execute_result"
    }
   ],
   "source": [
    "df.iloc[-2:]"
   ]
  },
  {
   "cell_type": "markdown",
   "id": "5e21dfcd",
   "metadata": {},
   "source": [
    "### str 접근자로 문자열 다루기\n",
    "- 판다스 str 접근자 메서드: https://pandas.pydata.org/docs/reference/series.html#api-series-str\n",
    "- 문자열 데이터에서 적용할 수 있는 시리즈 내 별도 네임 스페이스\n",
    "- 데이터 프레임에서 행이나 열을 인덱싱하여 시리즈 형태로 반환 후 사용하거나 특정 시리즈에서 사용해야 한다(데이터 프레임에서 사용 X)\n",
    "- \"python\".upper()를 하면 대문자 \"PYTHON\"으로 바꿔주는 것처럼, str 접근자는 파이썬 문자열에 사용할 수 있는 메서드와 유사하게 문자열을 처리해준다\n",
    "- 해당 시리즈 전체에 일괄 적용이 가능하여, 코드가 직관적이며 속도도 반복문을 사용하는 것보다 빠르다"
   ]
  },
  {
   "cell_type": "code",
   "execution_count": 19,
   "id": "28566cbf",
   "metadata": {},
   "outputs": [
    {
     "data": {
      "text/html": [
       "<div>\n",
       "<style scoped>\n",
       "    .dataframe tbody tr th:only-of-type {\n",
       "        vertical-align: middle;\n",
       "    }\n",
       "\n",
       "    .dataframe tbody tr th {\n",
       "        vertical-align: top;\n",
       "    }\n",
       "\n",
       "    .dataframe thead th {\n",
       "        text-align: right;\n",
       "    }\n",
       "</style>\n",
       "<table border=\"1\" class=\"dataframe\">\n",
       "  <thead>\n",
       "    <tr style=\"text-align: right;\">\n",
       "      <th></th>\n",
       "      <th>a</th>\n",
       "      <th>b</th>\n",
       "      <th>c</th>\n",
       "      <th>d</th>\n",
       "    </tr>\n",
       "  </thead>\n",
       "  <tbody>\n",
       "    <tr>\n",
       "      <th>1</th>\n",
       "      <td>apple</td>\n",
       "      <td>banana</td>\n",
       "      <td>car rot</td>\n",
       "      <td>diamond</td>\n",
       "    </tr>\n",
       "    <tr>\n",
       "      <th>2</th>\n",
       "      <td>amond</td>\n",
       "      <td>bound</td>\n",
       "      <td>cu  be</td>\n",
       "      <td>dog</td>\n",
       "    </tr>\n",
       "    <tr>\n",
       "      <th>3</th>\n",
       "      <td>able</td>\n",
       "      <td>bold</td>\n",
       "      <td>con   nect</td>\n",
       "      <td>duplicate</td>\n",
       "    </tr>\n",
       "  </tbody>\n",
       "</table>\n",
       "</div>"
      ],
      "text/plain": [
       "       a       b           c                d\n",
       "1  apple  banana     car rot         diamond \n",
       "2  amond   bound      cu  be            dog  \n",
       "3   able    bold  con   nect     duplicate   "
      ]
     },
     "execution_count": 19,
     "metadata": {},
     "output_type": "execute_result"
    }
   ],
   "source": [
    "# str 접근자의 메서드 중 일부 예제 실행해보기\n",
    "sample = pd.DataFrame({\n",
    "    \"a\":[\"apple\", \"amond\", \"able\"],\n",
    "    \"b\":[\"banana\", \"bound\", \"bold\"],\n",
    "    \"c\":[\"car rot\", \"cu  be\", \"con   nect\"],\n",
    "    \"d\":[\" diamond \", \"  dog  \", \"   duplicate   \"]},\n",
    "    index=[1, 2, 3])\n",
    "\n",
    "sample"
   ]
  },
  {
   "cell_type": "code",
   "execution_count": 20,
   "id": "c91fb76e",
   "metadata": {},
   "outputs": [
    {
     "data": {
      "text/plain": [
       "1    Apple\n",
       "2    Amond\n",
       "3     Able\n",
       "Name: a, dtype: object"
      ]
     },
     "execution_count": 20,
     "metadata": {},
     "output_type": "execute_result"
    }
   ],
   "source": [
    "# 첫 글자를 대문자로 만들기\n",
    "sample[\"a\"].str.capitalize()"
   ]
  },
  {
   "cell_type": "code",
   "execution_count": 21,
   "id": "625f054a",
   "metadata": {},
   "outputs": [
    {
     "data": {
      "text/plain": [
       "1    bananabanana\n",
       "2      boundbound\n",
       "3        boldbold\n",
       "Name: b, dtype: object"
      ]
     },
     "execution_count": 21,
     "metadata": {},
     "output_type": "execute_result"
    }
   ],
   "source": [
    "# 값을 지정한 횟수만큼 반복\n",
    "sample[\"b\"].str.repeat(2)"
   ]
  },
  {
   "cell_type": "code",
   "execution_count": 22,
   "id": "b0d8ced6",
   "metadata": {},
   "outputs": [
    {
     "data": {
      "text/plain": [
       "1       Car Rot\n",
       "2        Cu  Be\n",
       "3    Con   Nect\n",
       "Name: c, dtype: object"
      ]
     },
     "execution_count": 22,
     "metadata": {},
     "output_type": "execute_result"
    }
   ],
   "source": [
    "# 단어의 첫 글자 대문자로 만들기\n",
    "# capitalize는 문장의 첫 글자, title은 단어의 첫 글자를 대문자로 만든다\n",
    "sample[\"c\"].str.title()"
   ]
  },
  {
   "cell_type": "code",
   "execution_count": 23,
   "id": "b2a8c3b1",
   "metadata": {},
   "outputs": [
    {
     "data": {
      "text/plain": [
       "1     9\n",
       "2     7\n",
       "3    15\n",
       "Name: d, dtype: int64"
      ]
     },
     "execution_count": 23,
     "metadata": {},
     "output_type": "execute_result"
    }
   ],
   "source": [
    "# 문자열 길이 구하기\n",
    "sample[\"d\"].str.len()"
   ]
  },
  {
   "cell_type": "code",
   "execution_count": 24,
   "id": "0fcf0a6d",
   "metadata": {},
   "outputs": [
    {
     "data": {
      "text/plain": [
       "1           diamond \n",
       "2              dog  \n",
       "3       duplicate   \n",
       "Name: d, dtype: object"
      ]
     },
     "execution_count": 24,
     "metadata": {},
     "output_type": "execute_result"
    }
   ],
   "source": [
    "sample[\"d\"]"
   ]
  },
  {
   "cell_type": "code",
   "execution_count": 25,
   "id": "9a3aa1bc",
   "metadata": {},
   "outputs": [
    {
     "data": {
      "text/plain": [
       "1      diamond\n",
       "2          dog\n",
       "3    duplicate\n",
       "Name: d, dtype: object"
      ]
     },
     "execution_count": 25,
     "metadata": {},
     "output_type": "execute_result"
    }
   ],
   "source": [
    "# 앞뒤 공백 제거\n",
    "sample[\"d\"].str.strip()"
   ]
  },
  {
   "cell_type": "code",
   "execution_count": 26,
   "id": "3b2dd91b",
   "metadata": {},
   "outputs": [
    {
     "data": {
      "text/plain": [
       "1    i\n",
       "2    d\n",
       "3     \n",
       "Name: d, dtype: object"
      ]
     },
     "execution_count": 26,
     "metadata": {},
     "output_type": "execute_result"
    }
   ],
   "source": [
    "# 특정 인덱스에 해당되는 값 반환\n",
    "sample[\"d\"].str.get(2)"
   ]
  },
  {
   "cell_type": "code",
   "execution_count": 27,
   "id": "fecc3ef3",
   "metadata": {},
   "outputs": [
    {
     "data": {
      "text/plain": [
       "1    True\n",
       "2    True\n",
       "3    True\n",
       "Name: a, dtype: bool"
      ]
     },
     "execution_count": 27,
     "metadata": {},
     "output_type": "execute_result"
    }
   ],
   "source": [
    "# 알파벳으로만 된 문자인지 확인하기\n",
    "sample[\"a\"].str.isalpha()"
   ]
  },
  {
   "cell_type": "code",
   "execution_count": 28,
   "id": "34bc9d1f",
   "metadata": {},
   "outputs": [
    {
     "data": {
      "text/plain": [
       "'\\n그 외에도\\nSeries.str.isalnum()\\nSeries.str.islower()\\nSeries.str.isnumeric() 등 다양하다\\n'"
      ]
     },
     "execution_count": 28,
     "metadata": {},
     "output_type": "execute_result"
    }
   ],
   "source": [
    "sample[\"d\"].str.isalpha() # 공백문자 때문에 False\n",
    "\n",
    "'''\n",
    "그 외에도\n",
    "Series.str.isalnum()\n",
    "Series.str.islower()\n",
    "Series.str.isnumeric() 등 다양하다\n",
    "'''"
   ]
  },
  {
   "cell_type": "markdown",
   "id": "faaf537b",
   "metadata": {},
   "source": [
    "### 시리즈 형태의 문자열 데이터 다루기"
   ]
  },
  {
   "cell_type": "code",
   "execution_count": 52,
   "id": "44e729fe",
   "metadata": {},
   "outputs": [
    {
     "data": {
      "text/html": [
       "<div>\n",
       "<style scoped>\n",
       "    .dataframe tbody tr th:only-of-type {\n",
       "        vertical-align: middle;\n",
       "    }\n",
       "\n",
       "    .dataframe tbody tr th {\n",
       "        vertical-align: top;\n",
       "    }\n",
       "\n",
       "    .dataframe thead th {\n",
       "        text-align: right;\n",
       "    }\n",
       "</style>\n",
       "<table border=\"1\" class=\"dataframe\">\n",
       "  <thead>\n",
       "    <tr style=\"text-align: right;\">\n",
       "      <th></th>\n",
       "      <th>문서</th>\n",
       "    </tr>\n",
       "  </thead>\n",
       "  <tbody>\n",
       "    <tr>\n",
       "      <th>0</th>\n",
       "      <td>다른 사람이 말할 때까지 끝까지 잘 들어 보렴.</td>\n",
       "    </tr>\n",
       "    <tr>\n",
       "      <th>1</th>\n",
       "      <td>본인이 할 수 있는 무언가를 하자.</td>\n",
       "    </tr>\n",
       "    <tr>\n",
       "      <th>2</th>\n",
       "      <td>일부만 보고 전체를 매도하지 마세요!</td>\n",
       "    </tr>\n",
       "    <tr>\n",
       "      <th>3</th>\n",
       "      <td>인생, 살아만 있다면 어떻게든 된다</td>\n",
       "    </tr>\n",
       "    <tr>\n",
       "      <th>4</th>\n",
       "      <td>Cool 하게 헤어집시다.</td>\n",
       "    </tr>\n",
       "    <tr>\n",
       "      <th>5</th>\n",
       "      <td>회사 출근 시 중요 Tip</td>\n",
       "    </tr>\n",
       "  </tbody>\n",
       "</table>\n",
       "</div>"
      ],
      "text/plain": [
       "                           문서\n",
       "0  다른 사람이 말할 때까지 끝까지 잘 들어 보렴.\n",
       "1         본인이 할 수 있는 무언가를 하자.\n",
       "2       일부만 보고 전체를 매도하지 마세요! \n",
       "3         인생, 살아만 있다면 어떻게든 된다\n",
       "4              Cool 하게 헤어집시다.\n",
       "5              회사 출근 시 중요 Tip"
      ]
     },
     "execution_count": 52,
     "metadata": {},
     "output_type": "execute_result"
    }
   ],
   "source": [
    "document = [\"다른 사람이 말할 때까지 끝까지 잘 들어 보렴.\",\n",
    "           \" 본인이 할 수 있는 무언가를 하자.\",\n",
    "           \"일부만 보고 전체를 매도하지 마세요! \",\n",
    "           \"인생, 살아만 있다면 어떻게든 된다\",\n",
    "           \"Cool 하게 헤어집시다.\",\n",
    "           \" 회사 출근 시 중요 Tip\"]\n",
    "\n",
    "df_doc = pd.DataFrame(document, columns=[\"문서\"])\n",
    "df_doc"
   ]
  },
  {
   "cell_type": "code",
   "execution_count": 53,
   "id": "faafb0b2",
   "metadata": {},
   "outputs": [
    {
     "data": {
      "text/plain": [
       "0    다른 사람이 말할 때까지 끝까지 잘 들어 보렴.\n",
       "1           본인이 할 수 있는 무언가를 하자.\n",
       "2         일부만 보고 전체를 매도하지 마세요! \n",
       "3           인생, 살아만 있다면 어떻게든 된다\n",
       "4                cool 하게 헤어집시다.\n",
       "5                회사 출근 시 중요 tip\n",
       "Name: 문서, dtype: object"
      ]
     },
     "execution_count": 53,
     "metadata": {},
     "output_type": "execute_result"
    }
   ],
   "source": [
    "# 대소문자 변경하기\n",
    "# 알파벳이 포함되어 있는 문서를 다룰 때, 파이썬은 대소문자를 구분하기 때문에 Good과 good을 서로 다른 단어로 취급한다\n",
    "# 그렇게 되면 단어 빈도 분석이 제대로 되지 않고 단어 사전을 만들 때에도 대소문자만 다른 중복 단어가 여러 개 생기게 된다\n",
    "df_doc[\"문서\"].str.upper() # 대문자\n",
    "df_doc[\"문서\"].str.lower() # 소문자"
   ]
  },
  {
   "cell_type": "code",
   "execution_count": 54,
   "id": "93a6e392",
   "metadata": {},
   "outputs": [
    {
     "data": {
      "text/plain": [
       "0    다른 사람이 말할 때까지 끝까지 잘 들어 보렴.\n",
       "1           본인이 할 수 있는 무언가를 하자.\n",
       "2          일부만 보고 전체를 매도하지 마세요!\n",
       "3           인생, 살아만 있다면 어떻게든 된다\n",
       "4                Cool 하게 헤어집시다.\n",
       "5                회사 출근 시 중요 Tip\n",
       "Name: 문서, dtype: object"
      ]
     },
     "execution_count": 54,
     "metadata": {},
     "output_type": "execute_result"
    }
   ],
   "source": [
    "# 양끝 공백 제거하기\n",
    "df_doc[\"문서\"].str.strip()"
   ]
  },
  {
   "cell_type": "code",
   "execution_count": 55,
   "id": "235ad416",
   "metadata": {},
   "outputs": [
    {
     "data": {
      "text/plain": [
       "0    [다른, 사람이, 말할, 때까지, 끝까지, 잘, 들어, 보렴.]\n",
       "1             [본인이, 할, 수, 있는, 무언가를, 하자.]\n",
       "2             [일부만, 보고, 전체를, 매도하지, 마세요!]\n",
       "3              [인생,, 살아만, 있다면, 어떻게든, 된다]\n",
       "4                     [Cool, 하게, 헤어집시다.]\n",
       "5                   [회사, 출근, 시, 중요, Tip]\n",
       "Name: 문서, dtype: object"
      ]
     },
     "execution_count": 55,
     "metadata": {},
     "output_type": "execute_result"
    }
   ],
   "source": [
    "# 어절 나누기\n",
    "# 괄호 안에 아무 것도 넣지 않으면 기본값인 공백(띄어쓰기)를 기준으로 문장을 나눈다.\n",
    "# 특정 문자로 구분되어 있다면 괄호 안에 \"구분자\"를 넣어 나누어 준다\n",
    "df_doc[\"문서\"].str.split()"
   ]
  },
  {
   "cell_type": "code",
   "execution_count": 56,
   "id": "1dd82f4e",
   "metadata": {},
   "outputs": [
    {
     "data": {
      "text/html": [
       "<div>\n",
       "<style scoped>\n",
       "    .dataframe tbody tr th:only-of-type {\n",
       "        vertical-align: middle;\n",
       "    }\n",
       "\n",
       "    .dataframe tbody tr th {\n",
       "        vertical-align: top;\n",
       "    }\n",
       "\n",
       "    .dataframe thead th {\n",
       "        text-align: right;\n",
       "    }\n",
       "</style>\n",
       "<table border=\"1\" class=\"dataframe\">\n",
       "  <thead>\n",
       "    <tr style=\"text-align: right;\">\n",
       "      <th></th>\n",
       "      <th>0</th>\n",
       "      <th>1</th>\n",
       "      <th>2</th>\n",
       "      <th>3</th>\n",
       "      <th>4</th>\n",
       "      <th>5</th>\n",
       "      <th>6</th>\n",
       "      <th>7</th>\n",
       "    </tr>\n",
       "  </thead>\n",
       "  <tbody>\n",
       "    <tr>\n",
       "      <th>0</th>\n",
       "      <td>다른</td>\n",
       "      <td>사람이</td>\n",
       "      <td>말할</td>\n",
       "      <td>때까지</td>\n",
       "      <td>끝까지</td>\n",
       "      <td>잘</td>\n",
       "      <td>들어</td>\n",
       "      <td>보렴.</td>\n",
       "    </tr>\n",
       "    <tr>\n",
       "      <th>1</th>\n",
       "      <td>본인이</td>\n",
       "      <td>할</td>\n",
       "      <td>수</td>\n",
       "      <td>있는</td>\n",
       "      <td>무언가를</td>\n",
       "      <td>하자.</td>\n",
       "      <td>None</td>\n",
       "      <td>None</td>\n",
       "    </tr>\n",
       "    <tr>\n",
       "      <th>2</th>\n",
       "      <td>일부만</td>\n",
       "      <td>보고</td>\n",
       "      <td>전체를</td>\n",
       "      <td>매도하지</td>\n",
       "      <td>마세요!</td>\n",
       "      <td>None</td>\n",
       "      <td>None</td>\n",
       "      <td>None</td>\n",
       "    </tr>\n",
       "    <tr>\n",
       "      <th>3</th>\n",
       "      <td>인생,</td>\n",
       "      <td>살아만</td>\n",
       "      <td>있다면</td>\n",
       "      <td>어떻게든</td>\n",
       "      <td>된다</td>\n",
       "      <td>None</td>\n",
       "      <td>None</td>\n",
       "      <td>None</td>\n",
       "    </tr>\n",
       "    <tr>\n",
       "      <th>4</th>\n",
       "      <td>Cool</td>\n",
       "      <td>하게</td>\n",
       "      <td>헤어집시다.</td>\n",
       "      <td>None</td>\n",
       "      <td>None</td>\n",
       "      <td>None</td>\n",
       "      <td>None</td>\n",
       "      <td>None</td>\n",
       "    </tr>\n",
       "    <tr>\n",
       "      <th>5</th>\n",
       "      <td>회사</td>\n",
       "      <td>출근</td>\n",
       "      <td>시</td>\n",
       "      <td>중요</td>\n",
       "      <td>Tip</td>\n",
       "      <td>None</td>\n",
       "      <td>None</td>\n",
       "      <td>None</td>\n",
       "    </tr>\n",
       "  </tbody>\n",
       "</table>\n",
       "</div>"
      ],
      "text/plain": [
       "      0    1       2     3     4     5     6     7\n",
       "0    다른  사람이      말할   때까지   끝까지     잘    들어   보렴.\n",
       "1   본인이    할       수    있는  무언가를   하자.  None  None\n",
       "2   일부만   보고     전체를  매도하지  마세요!  None  None  None\n",
       "3   인생,  살아만     있다면  어떻게든    된다  None  None  None\n",
       "4  Cool   하게  헤어집시다.  None  None  None  None  None\n",
       "5    회사   출근       시    중요   Tip  None  None  None"
      ]
     },
     "execution_count": 56,
     "metadata": {},
     "output_type": "execute_result"
    }
   ],
   "source": [
    "# 어절 나눈 것을 데이터 프레임으로 반환하기\n",
    "df_doc[\"문서\"].str.split(expand=True)"
   ]
  },
  {
   "cell_type": "code",
   "execution_count": 60,
   "id": "93b2e13a",
   "metadata": {},
   "outputs": [
    {
     "data": {
      "text/plain": [
       "0    False\n",
       "1    False\n",
       "2    False\n",
       "3     True\n",
       "4    False\n",
       "5    False\n",
       "Name: 문서, dtype: bool"
      ]
     },
     "execution_count": 60,
     "metadata": {},
     "output_type": "execute_result"
    }
   ],
   "source": [
    "# 특정 문자 찾기\n",
    "df_doc[\"문서\"].str.contains(\"인생\")"
   ]
  },
  {
   "cell_type": "code",
   "execution_count": 59,
   "id": "3dadc4d2",
   "metadata": {},
   "outputs": [
    {
     "data": {
      "text/html": [
       "<div>\n",
       "<style scoped>\n",
       "    .dataframe tbody tr th:only-of-type {\n",
       "        vertical-align: middle;\n",
       "    }\n",
       "\n",
       "    .dataframe tbody tr th {\n",
       "        vertical-align: top;\n",
       "    }\n",
       "\n",
       "    .dataframe thead th {\n",
       "        text-align: right;\n",
       "    }\n",
       "</style>\n",
       "<table border=\"1\" class=\"dataframe\">\n",
       "  <thead>\n",
       "    <tr style=\"text-align: right;\">\n",
       "      <th></th>\n",
       "      <th>문서</th>\n",
       "    </tr>\n",
       "  </thead>\n",
       "  <tbody>\n",
       "    <tr>\n",
       "      <th>3</th>\n",
       "      <td>인생, 살아만 있다면 어떻게든 된다</td>\n",
       "    </tr>\n",
       "  </tbody>\n",
       "</table>\n",
       "</div>"
      ],
      "text/plain": [
       "                    문서\n",
       "3  인생, 살아만 있다면 어떻게든 된다"
      ]
     },
     "execution_count": 59,
     "metadata": {},
     "output_type": "execute_result"
    }
   ],
   "source": [
    "# 행을 데이터 프레임으로 한번 더 감싸주면 해당 데이터만 가져온다.\n",
    "df_doc[df_doc[\"문서\"].str.contains(\"인생\")]"
   ]
  },
  {
   "cell_type": "code",
   "execution_count": 61,
   "id": "d8b65498",
   "metadata": {},
   "outputs": [
    {
     "data": {
      "text/html": [
       "<div>\n",
       "<style scoped>\n",
       "    .dataframe tbody tr th:only-of-type {\n",
       "        vertical-align: middle;\n",
       "    }\n",
       "\n",
       "    .dataframe tbody tr th {\n",
       "        vertical-align: top;\n",
       "    }\n",
       "\n",
       "    .dataframe thead th {\n",
       "        text-align: right;\n",
       "    }\n",
       "</style>\n",
       "<table border=\"1\" class=\"dataframe\">\n",
       "  <thead>\n",
       "    <tr style=\"text-align: right;\">\n",
       "      <th></th>\n",
       "      <th>문서</th>\n",
       "    </tr>\n",
       "  </thead>\n",
       "  <tbody>\n",
       "    <tr>\n",
       "      <th>3</th>\n",
       "      <td>인생, 살아만 있다면 어떻게든 된다</td>\n",
       "    </tr>\n",
       "    <tr>\n",
       "      <th>5</th>\n",
       "      <td>회사 출근 시 중요 Tip</td>\n",
       "    </tr>\n",
       "  </tbody>\n",
       "</table>\n",
       "</div>"
      ],
      "text/plain": [
       "                    문서\n",
       "3  인생, 살아만 있다면 어떻게든 된다\n",
       "5       회사 출근 시 중요 Tip"
      ]
     },
     "execution_count": 61,
     "metadata": {},
     "output_type": "execute_result"
    }
   ],
   "source": [
    "# 내부에서 정규표현식을 사용하여 여러 데이터 가져오기\n",
    "# &(AND) 또는 |(OR)\n",
    "df_doc[df_doc[\"문서\"].str.contains(\"인생|출근\")]"
   ]
  },
  {
   "cell_type": "markdown",
   "id": "1f832341",
   "metadata": {},
   "source": [
    "- **replace() 메서드와 str 접근자 replace()의 차이점**\n",
    "    - **replace() 메서드**\n",
    "        - 데이터 프레임, 시리즈 모두 사용 가능\n",
    "        - 전체 텍스트가 일치해야 대체(정규표현식 사용 시 일부만 일치해도 대체)\n",
    "    - **str 접근자 replace()** \n",
    "        - 시리즈에만 사용 가능\n",
    "        - 일부 일치하는 텍스트를 대체\n",
    "    - 모두 정규표현식 사용 가능"
   ]
  },
  {
   "cell_type": "code",
   "execution_count": 63,
   "id": "b8459c16",
   "metadata": {},
   "outputs": [
    {
     "data": {
      "text/plain": [
       "0    다른 사람이 말할 때까지 끝까지 잘 들어 보렴.\n",
       "1           본인이 할 수 있는 무언가를 하자.\n",
       "2         일부만 보고 전체를 매도하지 마세요! \n",
       "3           인생, 살아만 있다면 어떻게든 된다\n",
       "4                Cool 하게 헤어집시다.\n",
       "5                회사 퇴사 시 중요 Tip\n",
       "Name: 문서, dtype: object"
      ]
     },
     "execution_count": 63,
     "metadata": {},
     "output_type": "execute_result"
    }
   ],
   "source": [
    "# 문자열 바꾸기\n",
    "df_doc[\"문서\"].str.replace(\"출근\", \"퇴사\")"
   ]
  },
  {
   "cell_type": "code",
   "execution_count": 66,
   "id": "e170689d",
   "metadata": {},
   "outputs": [
    {
     "data": {
      "text/plain": [
       "0    다른 사람이 말할 때까지 끝까지 잘 들어 보렴.\n",
       "1           본인이 할 수 있는 무언가를 하자.\n",
       "2         일부만 보고 전체를 매도하지 마세요! \n",
       "3           퇴사, 살아만 있다면 어떻게든 된다\n",
       "4                Cool 하게 헤어집시다.\n",
       "5                회사 퇴사 시 중요 Tip\n",
       "Name: 문서, dtype: object"
      ]
     },
     "execution_count": 66,
     "metadata": {},
     "output_type": "execute_result"
    }
   ],
   "source": [
    "# 문자열을 변경할 때 정규표현식을 함께 사용할 수 있다.\n",
    "df_doc[\"문서\"].str.replace(\"출근|인생\", \"퇴사\", regex=True)"
   ]
  }
 ],
 "metadata": {
  "kernelspec": {
   "display_name": "Python 3 (ipykernel)",
   "language": "python",
   "name": "python3"
  },
  "language_info": {
   "codemirror_mode": {
    "name": "ipython",
    "version": 3
   },
   "file_extension": ".py",
   "mimetype": "text/x-python",
   "name": "python",
   "nbconvert_exporter": "python",
   "pygments_lexer": "ipython3",
   "version": "3.9.16"
  },
  "toc": {
   "base_numbering": 1,
   "nav_menu": {},
   "number_sections": true,
   "sideBar": true,
   "skip_h1_title": false,
   "title_cell": "Table of Contents",
   "title_sidebar": "Contents",
   "toc_cell": false,
   "toc_position": {
    "height": "calc(100% - 180px)",
    "left": "10px",
    "top": "150px",
    "width": "303.837px"
   },
   "toc_section_display": true,
   "toc_window_display": false
  }
 },
 "nbformat": 4,
 "nbformat_minor": 5
}
