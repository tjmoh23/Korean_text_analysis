{
 "cells": [
  {
   "cell_type": "markdown",
   "id": "6abaa240",
   "metadata": {},
   "source": [
    "# 모두의 한국어 텍스트 분석\n",
    "이 노트북은 박조은님의 <모두의 한국어 텍스트 분석> 책의 예제를 바탕으로 한 노트북입니다.",
    "## 2장 파이썬에서 문자열 다루기"
   ]
  },
  {
   "cell_type": "code",
   "execution_count": 5,
   "id": "87ff4815",
   "metadata": {},
   "outputs": [
    {
     "name": "stdout",
     "output_type": "stream",
     "text": [
      "작은 따옴표로 묶을 때는 \"큰 따옴표\"를 사용한다\n",
      "큰 따옴표로 묶을 때는 '작은 따옴표'를 사용한다\n"
     ]
    }
   ],
   "source": [
    "print('작은 따옴표로 묶을 때는 \"큰 따옴표\"를 사용한다')\n",
    "print(\"큰 따옴표로 묶을 때는 '작은 따옴표'를 사용한다\")"
   ]
  },
  {
   "cell_type": "code",
   "execution_count": 2,
   "id": "0a1bda08",
   "metadata": {},
   "outputs": [
    {
     "data": {
      "text/plain": [
       "\"작은 따옴표로만 구현할 때 '역슬래시'를 사용해 예외 처리할 수도 있다.\""
      ]
     },
     "execution_count": 2,
     "metadata": {},
     "output_type": "execute_result"
    }
   ],
   "source": [
    "'작은 따옴표로만 구현할 때 \\'역슬래시\\'를 사용해 예외 처리할 수도 있다.'"
   ]
  },
  {
   "cell_type": "code",
   "execution_count": 11,
   "id": "ade7a60a",
   "metadata": {},
   "outputs": [
    {
     "data": {
      "text/plain": [
       "'\\n줄바꿈\\n문자를\\n표현한다\\n'"
      ]
     },
     "execution_count": 11,
     "metadata": {},
     "output_type": "execute_result"
    }
   ],
   "source": [
    "# 함수 내부에서 사용하면 도움말 문서인 독스트링이 된다\n",
    "'''\n",
    "줄바꿈\n",
    "문자를\n",
    "표현한다\n",
    "'''"
   ]
  },
  {
   "cell_type": "code",
   "execution_count": 13,
   "id": "a1c16100",
   "metadata": {},
   "outputs": [
    {
     "data": {
      "text/plain": [
       "'1+1'"
      ]
     },
     "execution_count": 13,
     "metadata": {},
     "output_type": "execute_result"
    }
   ],
   "source": [
    "# f-string(format string) 사용하기\n",
    "# 문자열 포맷팅 기능 \n",
    "# 기존 문자열.format() \n",
    "f\"1+{1}\""
   ]
  },
  {
   "cell_type": "code",
   "execution_count": 17,
   "id": "7e535f98",
   "metadata": {},
   "outputs": [
    {
     "data": {
      "text/plain": [
       "'오늘 코로나 확진자 수는 10명입니다.'"
      ]
     },
     "execution_count": 17,
     "metadata": {},
     "output_type": "execute_result"
    }
   ],
   "source": [
    "num = 10\n",
    "f\"오늘 코로나 확진자 수는 {num}명입니다.\""
   ]
  },
  {
   "cell_type": "code",
   "execution_count": 18,
   "id": "ee60df85",
   "metadata": {},
   "outputs": [],
   "source": [
    "# 슬라이싱\n",
    "address = \"서울특별시 강서구 방화동 국립국어원\""
   ]
  },
  {
   "cell_type": "code",
   "execution_count": 19,
   "id": "e8ec0153",
   "metadata": {},
   "outputs": [
    {
     "data": {
      "text/plain": [
       "'원어국립국 동화방 구서강 시별특울서'"
      ]
     },
     "execution_count": 19,
     "metadata": {},
     "output_type": "execute_result"
    }
   ],
   "source": [
    "address[::-1]"
   ]
  },
  {
   "cell_type": "code",
   "execution_count": 20,
   "id": "af6d97b2",
   "metadata": {},
   "outputs": [
    {
     "data": {
      "text/plain": [
       "'강서구'"
      ]
     },
     "execution_count": 20,
     "metadata": {},
     "output_type": "execute_result"
    }
   ],
   "source": [
    "address[6:9]"
   ]
  },
  {
   "cell_type": "code",
   "execution_count": 21,
   "id": "35308018",
   "metadata": {},
   "outputs": [
    {
     "data": {
      "text/plain": [
       "'국국동방구강시특서'"
      ]
     },
     "execution_count": 21,
     "metadata": {},
     "output_type": "execute_result"
    }
   ],
   "source": [
    "address[-3::-2]"
   ]
  },
  {
   "cell_type": "code",
   "execution_count": 22,
   "id": "040f14e0",
   "metadata": {},
   "outputs": [
    {
     "data": {
      "text/plain": [
       "19"
      ]
     },
     "execution_count": 22,
     "metadata": {},
     "output_type": "execute_result"
    }
   ],
   "source": [
    "# 문자열의 길이\n",
    "len(address)"
   ]
  },
  {
   "cell_type": "code",
   "execution_count": 23,
   "id": "a05c1542",
   "metadata": {},
   "outputs": [
    {
     "data": {
      "text/plain": [
       "11"
      ]
     },
     "execution_count": 23,
     "metadata": {},
     "output_type": "execute_result"
    }
   ],
   "source": [
    "len(\"성산월드타운대림아파트\")"
   ]
  },
  {
   "cell_type": "code",
   "execution_count": 32,
   "id": "9f1d8e69",
   "metadata": {},
   "outputs": [
    {
     "data": {
      "text/plain": [
       "['서울특별시', '마포구', '성산동', '성산동']"
      ]
     },
     "execution_count": 32,
     "metadata": {},
     "output_type": "execute_result"
    }
   ],
   "source": [
    "\"서울특별시 마포구 성산동 성산동\".split()"
   ]
  },
  {
   "cell_type": "code",
   "execution_count": 27,
   "id": "9319c253",
   "metadata": {},
   "outputs": [
    {
     "data": {
      "text/plain": [
       "3"
      ]
     },
     "execution_count": 27,
     "metadata": {},
     "output_type": "execute_result"
    }
   ],
   "source": [
    "# 단어의 수를 세고 싶다면?\n",
    "len(\"서울특별시 마포구 성산동\".split())"
   ]
  },
  {
   "cell_type": "code",
   "execution_count": 28,
   "id": "1ca3bfd0",
   "metadata": {},
   "outputs": [
    {
     "data": {
      "text/plain": [
       "4"
      ]
     },
     "execution_count": 28,
     "metadata": {},
     "output_type": "execute_result"
    }
   ],
   "source": [
    "# 중복된 단어가 있다면?\n",
    "len(\"서울특별시 마포구 성산동 성산동\".split())\n",
    "\n",
    "# 중복되는 단어도 모두 센다\n",
    "# 중복을 제거하려면?"
   ]
  },
  {
   "cell_type": "code",
   "execution_count": 29,
   "id": "9b2f62e4",
   "metadata": {},
   "outputs": [
    {
     "data": {
      "text/plain": [
       "3"
      ]
     },
     "execution_count": 29,
     "metadata": {},
     "output_type": "execute_result"
    }
   ],
   "source": [
    "# 집합 자료형 set\n",
    "# 중복값 제거\n",
    "len(set(\"서울특별시 마포구 성산동 성산동\".split()))"
   ]
  },
  {
   "cell_type": "markdown",
   "id": "ba120563",
   "metadata": {},
   "source": [
    "- 메서드: 클래스 안에 선언한 함수\n",
    "    - 대소문자 변환: upper, lower\n",
    "    - 앞뒤 공백 제거: strip\n",
    "    - 리스트 메서드: append, split, sort, reverse, join"
   ]
  },
  {
   "cell_type": "code",
   "execution_count": 34,
   "id": "b123dd4f",
   "metadata": {},
   "outputs": [
    {
     "data": {
      "text/plain": [
       "'HAPPY DAY!'"
      ]
     },
     "execution_count": 34,
     "metadata": {},
     "output_type": "execute_result"
    }
   ],
   "source": [
    "# 대문자로 변환\n",
    "\"Happy Day!\".upper()"
   ]
  },
  {
   "cell_type": "code",
   "execution_count": 41,
   "id": "1d2000b7",
   "metadata": {},
   "outputs": [
    {
     "name": "stdout",
     "output_type": "stream",
     "text": [
      "     LUCKY YOU!     \n"
     ]
    },
    {
     "data": {
      "text/plain": [
       "'     lucky you!     '"
      ]
     },
     "execution_count": 41,
     "metadata": {},
     "output_type": "execute_result"
    }
   ],
   "source": [
    "a = \"     Lucky You!     \"\n",
    "print(a.upper())\n",
    "a.lower() # 소문자로 변환"
   ]
  },
  {
   "cell_type": "code",
   "execution_count": 40,
   "id": "7a9a842b",
   "metadata": {},
   "outputs": [
    {
     "data": {
      "text/plain": [
       "'Lucky You!'"
      ]
     },
     "execution_count": 40,
     "metadata": {},
     "output_type": "execute_result"
    }
   ],
   "source": [
    "# strip: 앞뒤 공백 제거 \n",
    "a.strip()"
   ]
  },
  {
   "cell_type": "code",
   "execution_count": 42,
   "id": "8a928556",
   "metadata": {},
   "outputs": [
    {
     "name": "stdout",
     "output_type": "stream",
     "text": [
      "20\n"
     ]
    },
    {
     "data": {
      "text/plain": [
       "10"
      ]
     },
     "execution_count": 42,
     "metadata": {},
     "output_type": "execute_result"
    }
   ],
   "source": [
    "print(len(a))\n",
    "len(a.strip()) # 길이가 줄어듦"
   ]
  },
  {
   "cell_type": "code",
   "execution_count": 43,
   "id": "616bb197",
   "metadata": {},
   "outputs": [
    {
     "data": {
      "text/plain": [
       "['짱구', '스폰지밥', '노진구', '뚱이']"
      ]
     },
     "execution_count": 43,
     "metadata": {},
     "output_type": "execute_result"
    }
   ],
   "source": [
    "# append: 단어 추가 \n",
    "sample = [\"짱구\", \"스폰지밥\", \"노진구\"]\n",
    "sample.append(\"뚱이\")\n",
    "sample"
   ]
  },
  {
   "cell_type": "code",
   "execution_count": 44,
   "id": "e7eb176c",
   "metadata": {},
   "outputs": [
    {
     "data": {
      "text/plain": [
       "['하늘과', '바람과', '별과', '시']"
      ]
     },
     "execution_count": 44,
     "metadata": {},
     "output_type": "execute_result"
    }
   ],
   "source": [
    "# split: 띄어쓰기를 기준으로 단어 출력 \n",
    "test = \"하늘과 바람과 별과 시\"\n",
    "test.split()"
   ]
  },
  {
   "cell_type": "code",
   "execution_count": 47,
   "id": "3d78703d",
   "metadata": {},
   "outputs": [
    {
     "data": {
      "text/plain": [
       "['노진구', '뚱이', '스폰지밥', '짱구']"
      ]
     },
     "execution_count": 47,
     "metadata": {},
     "output_type": "execute_result"
    }
   ],
   "source": [
    "# sort: 가나다순 출력\n",
    "sample.sort()\n",
    "sample"
   ]
  },
  {
   "cell_type": "code",
   "execution_count": 48,
   "id": "a8e4c575",
   "metadata": {},
   "outputs": [
    {
     "data": {
      "text/plain": [
       "['짱구', '스폰지밥', '뚱이', '노진구']"
      ]
     },
     "execution_count": 48,
     "metadata": {},
     "output_type": "execute_result"
    }
   ],
   "source": [
    "# reverse: 순서 뒤집어 출력 \n",
    "sample.reverse()\n",
    "sample"
   ]
  },
  {
   "cell_type": "code",
   "execution_count": 49,
   "id": "2b188204",
   "metadata": {},
   "outputs": [
    {
     "data": {
      "text/plain": [
       "['노진구', '뚱이', '스폰지밥', '짱구']"
      ]
     },
     "execution_count": 49,
     "metadata": {},
     "output_type": "execute_result"
    }
   ],
   "source": [
    "# 슬라이싱 사용해서 뒤집을 수도 있다\n",
    "sample[::-1]"
   ]
  },
  {
   "cell_type": "code",
   "execution_count": 54,
   "id": "15cf92b8",
   "metadata": {},
   "outputs": [
    {
     "name": "stdout",
     "output_type": "stream",
     "text": [
      "짱구 스폰지밥 뚱이 노진구\n"
     ]
    },
    {
     "data": {
      "text/plain": [
       "'짱구와/과 스폰지밥와/과 뚱이와/과 노진구'"
      ]
     },
     "execution_count": 54,
     "metadata": {},
     "output_type": "execute_result"
    }
   ],
   "source": [
    "# join: 분리한 텍스트 복원\n",
    "# 텍스트 데이터를 전처리하고 다시 텍스트 데이터로 복원할 때 자주 사용\n",
    "print(\" \".join(sample))\n",
    "\"와/과 \".join(sample)"
   ]
  },
  {
   "cell_type": "code",
   "execution_count": 55,
   "id": "807a6cea",
   "metadata": {},
   "outputs": [
    {
     "name": "stdout",
     "output_type": "stream",
     "text": [
      "1\n",
      "4\n",
      "7\n"
     ]
    }
   ],
   "source": [
    "for i in range(1, 10, 3):\n",
    "    print(i)"
   ]
  },
  {
   "cell_type": "code",
   "execution_count": 57,
   "id": "12982e39",
   "metadata": {},
   "outputs": [],
   "source": [
    "def sample_text(txt):\n",
    "    \"\"\"\n",
    "    문자열에 포함된 영문자를 소문자로 만들고\n",
    "    문자열 양끝 공백을 제거하며\n",
    "    구두점(.)을 제거하는 사용자 정의 함수\n",
    "    \"\"\"\n",
    "    \n",
    "    txt = txt.lower()\n",
    "    txt = txt.strip()\n",
    "    txt = txt.replace(\".\", \"\")\n",
    "    return txt"
   ]
  },
  {
   "cell_type": "code",
   "execution_count": 58,
   "id": "e99cbdc2",
   "metadata": {},
   "outputs": [
    {
     "data": {
      "text/plain": [
       "'재미있는 python'"
      ]
     },
     "execution_count": 58,
     "metadata": {},
     "output_type": "execute_result"
    }
   ],
   "source": [
    "txt = \"   재미있는 PYTHON...   \"\n",
    "sample_text(txt)"
   ]
  },
  {
   "cell_type": "code",
   "execution_count": 67,
   "id": "2651fb1c",
   "metadata": {},
   "outputs": [],
   "source": [
    " # 도움말\n",
    "sample_text?"
   ]
  },
  {
   "cell_type": "code",
   "execution_count": 69,
   "id": "92d304b0",
   "metadata": {},
   "outputs": [],
   "source": [
    "# 소스코드 보기\n",
    "sample_text??"
   ]
  },
  {
   "cell_type": "code",
   "execution_count": 71,
   "id": "62e9cae2",
   "metadata": {},
   "outputs": [
    {
     "name": "stdout",
     "output_type": "stream",
     "text": [
      "['__add__', '__class__', '__contains__', '__delattr__', '__dir__', '__doc__', '__eq__', '__format__', '__ge__', '__getattribute__', '__getitem__', '__getnewargs__', '__gt__', '__hash__', '__init__', '__init_subclass__', '__iter__', '__le__', '__len__', '__lt__', '__mod__', '__mul__', '__ne__', '__new__', '__reduce__', '__reduce_ex__', '__repr__', '__rmod__', '__rmul__', '__setattr__', '__sizeof__', '__str__', '__subclasshook__', 'capitalize', 'casefold', 'center', 'count', 'encode', 'endswith', 'expandtabs', 'find', 'format', 'format_map', 'index', 'isalnum', 'isalpha', 'isascii', 'isdecimal', 'isdigit', 'isidentifier', 'islower', 'isnumeric', 'isprintable', 'isspace', 'istitle', 'isupper', 'join', 'ljust', 'lower', 'lstrip', 'maketrans', 'partition', 'removeprefix', 'removesuffix', 'replace', 'rfind', 'rindex', 'rjust', 'rpartition', 'rsplit', 'rstrip', 'split', 'splitlines', 'startswith', 'strip', 'swapcase', 'title', 'translate', 'upper', 'zfill']\n"
     ]
    }
   ],
   "source": [
    "# 문자열 내장 메서드 출력\n",
    "# __: 매직 메서드/스페셜 메서드, 다른 메서드와 사용법이 다르다, \n",
    "# 문자열.메서드명()이 아니라, 스페셜 메서드명(문자열) 형태로 사용\n",
    "print(dir(test))"
   ]
  },
  {
   "cell_type": "code",
   "execution_count": 72,
   "id": "3495c676",
   "metadata": {},
   "outputs": [
    {
     "name": "stdout",
     "output_type": "stream",
     "text": [
      "capitalize, casefold, center, count, encode, endswith, expandtabs, find, format, format_map, index, isalnum, isalpha, isascii, isdecimal, isdigit, isidentifier, islower, isnumeric, isprintable, isspace, istitle, isupper, join, ljust, lower, lstrip, maketrans, partition, removeprefix, removesuffix, replace, rfind, rindex, rjust, rpartition, rsplit, rstrip, split, splitlines, startswith, strip, swapcase, title, translate, upper, zfill, "
     ]
    }
   ],
   "source": [
    "# 스페셜 메서드 제외한 메서드(capitalize) 출력하기\n",
    "for func in dir(test):\n",
    "    if not func.startswith(\"__\"):\n",
    "        print(func, end=\", \")"
   ]
  }
 ],
 "metadata": {
  "kernelspec": {
   "display_name": "Python 3 (ipykernel)",
   "language": "python",
   "name": "python3"
  },
  "language_info": {
   "codemirror_mode": {
    "name": "ipython",
    "version": 3
   },
   "file_extension": ".py",
   "mimetype": "text/x-python",
   "name": "python",
   "nbconvert_exporter": "python",
   "pygments_lexer": "ipython3",
   "version": "3.9.16"
  },
  "toc": {
   "base_numbering": 1,
   "nav_menu": {},
   "number_sections": true,
   "sideBar": true,
   "skip_h1_title": false,
   "title_cell": "Table of Contents",
   "title_sidebar": "Contents",
   "toc_cell": false,
   "toc_position": {},
   "toc_section_display": true,
   "toc_window_display": false
  }
 },
 "nbformat": 4,
 "nbformat_minor": 5
}
